{
 "cells": [
  {
   "cell_type": "code",
   "execution_count": 59,
   "id": "5734b321-10c2-4979-a3ae-eda2ce842c56",
   "metadata": {},
   "outputs": [
    {
     "ename": "ImportError",
     "evalue": "attempted relative import with no known parent package",
     "output_type": "error",
     "traceback": [
      "\u001b[1;31m---------------------------------------------------------------------------\u001b[0m",
      "\u001b[1;31mImportError\u001b[0m                               Traceback (most recent call last)",
      "Cell \u001b[1;32mIn[59], line 9\u001b[0m\n\u001b[0;32m      5\u001b[0m \u001b[38;5;28;01mimport\u001b[39;00m \u001b[38;5;21;01mpandas\u001b[39;00m \u001b[38;5;28;01mas\u001b[39;00m \u001b[38;5;21;01mpd\u001b[39;00m\n\u001b[0;32m      7\u001b[0m \u001b[38;5;28;01mimport\u001b[39;00m \u001b[38;5;21;01msys\u001b[39;00m\n\u001b[1;32m----> 9\u001b[0m \u001b[38;5;28;01mfrom\u001b[39;00m \u001b[38;5;21;01m.\u001b[39;00m\u001b[38;5;21;01m.\u001b[39;00m\u001b[38;5;21;01mData\u001b[39;00m\u001b[38;5;21;01m.\u001b[39;00m\u001b[38;5;21;01mdata_processing\u001b[39;00m\u001b[38;5;21;01m.\u001b[39;00m\u001b[38;5;21;01mpy\u001b[39;00m \u001b[38;5;28;01mimport\u001b[39;00m id2path\n",
      "\u001b[1;31mImportError\u001b[0m: attempted relative import with no known parent package"
     ]
    }
   ],
   "source": [
    "import seaborn as sns\n",
    "import matplotlib.pyplot as plt\n",
    "import numpy as np\n",
    "import random\n",
    "import pandas as pd\n",
    "\n",
    "import sys\n",
    "\n",
    "from ..Data.data_processing.py import id2path\n",
    "\n",
    "\n"
   ]
  },
  {
   "cell_type": "code",
   "execution_count": null,
   "id": "160d7e9c-135f-4ee6-87bc-862dba6125e9",
   "metadata": {},
   "outputs": [],
   "source": [
    "train_labels = pd.read_csv(\"G:/W_project/Waves_data/g2net-gravitational-wave-detection/training_labels.csv\")\n",
    "sample_submission = pd.read_csv(\"G:/W_project/Waves_data/g2net-gravitational-wave-detection/training_labels.csv\")"
   ]
  },
  {
   "cell_type": "code",
   "execution_count": 8,
   "id": "b76b234c-534b-4ade-b75f-d54aa15970d8",
   "metadata": {},
   "outputs": [
    {
     "ename": "NameError",
     "evalue": "name 'id2path' is not defined",
     "output_type": "error",
     "traceback": [
      "\u001b[1;31m---------------------------------------------------------------------------\u001b[0m",
      "\u001b[1;31mNameError\u001b[0m                                 Traceback (most recent call last)",
      "Cell \u001b[1;32mIn[8], line 33\u001b[0m\n\u001b[0;32m     30\u001b[0m _id \u001b[38;5;241m=\u001b[39m sample_submission\u001b[38;5;241m.\u001b[39miloc[i][\u001b[38;5;124m\"\u001b[39m\u001b[38;5;124mid\u001b[39m\u001b[38;5;124m\"\u001b[39m]\n\u001b[0;32m     31\u001b[0m target \u001b[38;5;241m=\u001b[39m sample_submission\u001b[38;5;241m.\u001b[39miloc[i][\u001b[38;5;124m\"\u001b[39m\u001b[38;5;124mtarget\u001b[39m\u001b[38;5;124m\"\u001b[39m]\n\u001b[1;32m---> 33\u001b[0m \u001b[43mvisualizeSample\u001b[49m\u001b[43m(\u001b[49m\u001b[43m_id\u001b[49m\u001b[43m,\u001b[49m\u001b[43m \u001b[49m\u001b[43mtarget\u001b[49m\u001b[43m)\u001b[49m\n",
      "Cell \u001b[1;32mIn[8], line 4\u001b[0m, in \u001b[0;36mvisualizeSample\u001b[1;34m(_id, target, colors, signal_names)\u001b[0m\n\u001b[0;32m      2\u001b[0m \u001b[38;5;28;01mdef\u001b[39;00m \u001b[38;5;21mvisualizeSample\u001b[39m(_id, target, colors\u001b[38;5;241m=\u001b[39m(\u001b[38;5;124m\"\u001b[39m\u001b[38;5;124mred\u001b[39m\u001b[38;5;124m\"\u001b[39m, \u001b[38;5;124m\"\u001b[39m\u001b[38;5;124mblue\u001b[39m\u001b[38;5;124m\"\u001b[39m, \u001b[38;5;124m\"\u001b[39m\u001b[38;5;124mgreen\u001b[39m\u001b[38;5;124m\"\u001b[39m), signal_names\u001b[38;5;241m=\u001b[39m(\u001b[38;5;124m\"\u001b[39m\u001b[38;5;124mLIGO Hanford\u001b[39m\u001b[38;5;124m\"\u001b[39m, \u001b[38;5;124m\"\u001b[39m\u001b[38;5;124mLIGO Livingston\u001b[39m\u001b[38;5;124m\"\u001b[39m, \u001b[38;5;124m\"\u001b[39m\u001b[38;5;124mVirgo\u001b[39m\u001b[38;5;124m\"\u001b[39m)):\n\u001b[0;32m      3\u001b[0m     \u001b[38;5;66;03m# Get file path for the given ID\u001b[39;00m\n\u001b[1;32m----> 4\u001b[0m     path \u001b[38;5;241m=\u001b[39m \u001b[43mid2path\u001b[49m(_id)\n\u001b[0;32m      6\u001b[0m     \u001b[38;5;66;03m# Load data\u001b[39;00m\n\u001b[0;32m      7\u001b[0m     x \u001b[38;5;241m=\u001b[39m np\u001b[38;5;241m.\u001b[39mload(path)\n",
      "\u001b[1;31mNameError\u001b[0m: name 'id2path' is not defined"
     ]
    }
   ],
   "source": [
    "# Function to visualize a sample of signals\n",
    "def visualizeSample(_id, target, colors=(\"red\", \"blue\", \"green\"), signal_names=(\"LIGO Hanford\", \"LIGO Livingston\", \"Virgo\")):\n",
    "    # Get file path for the given ID\n",
    "    path = id2path(_id)\n",
    "    \n",
    "    # Load data\n",
    "    x = np.load(path)\n",
    "    \n",
    "    # Set up the figure\n",
    "    fig, axs = plt.subplots(nrows=4, ncols=1, figsize=(16, 7), gridspec_kw={\"height_ratios\": [1, 1, 1, 2]})\n",
    "    \n",
    "    # Plot each signal separately\n",
    "    for i in range(3):\n",
    "        axs[i].plot(x[i], color=colors[i])\n",
    "        axs[i].legend([signal_names[i]], fontsize=12, loc=\"lower right\")\n",
    "    \n",
    "    # Plot all three signals overlaid on each other\n",
    "    for i, color in enumerate(colors):\n",
    "        axs[3].plot(x[i], color=color, label=signal_names[i])\n",
    "    axs[3].legend(fontsize=12, loc=\"lower right\")\n",
    "    \n",
    "    # Set the title\n",
    "    fig.suptitle(f\"id: {_id} target: {target}\", fontsize=16)\n",
    "    \n",
    "    # Show the plot\n",
    "    plt.show()\n",
    "\n",
    "# Loop to visualize a random sample of signals\n",
    "for i in random.sample(sample_submission.index.tolist(), 3):\n",
    "    _id = sample_submission.iloc[i][\"id\"]\n",
    "    target = sample_submission.iloc[i][\"target\"]\n",
    "    \n",
    "    visualizeSample(_id, target)\n"
   ]
  }
 ],
 "metadata": {
  "kernelspec": {
   "display_name": "Python 3 (ipykernel)",
   "language": "python",
   "name": "python3"
  },
  "language_info": {
   "codemirror_mode": {
    "name": "ipython",
    "version": 3
   },
   "file_extension": ".py",
   "mimetype": "text/x-python",
   "name": "python",
   "nbconvert_exporter": "python",
   "pygments_lexer": "ipython3",
   "version": "3.11.7"
  }
 },
 "nbformat": 4,
 "nbformat_minor": 5
}
